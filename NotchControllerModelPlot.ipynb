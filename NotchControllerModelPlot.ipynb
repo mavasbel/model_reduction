{
 "cells": [
  {
   "cell_type": "code",
   "execution_count": 28,
   "metadata": {},
   "outputs": [
    {
     "name": "stdout",
     "output_type": "stream",
     "text": [
      "Variable           Type              Data/Info\n",
      "----------------------------------------------\n",
      "dvMathcalP         LinearIOSystem    <LinearIOSystem>: sys[3]\\<...>[[0. 0.]\\n     [0. 0.]]\\n\n",
      "extMathcalP        LinearIOSystem    <LinearIOSystem>: sys[2]\\<...> [0. 0.]\\n     [0. 0.]]\\n\n",
      "fullOrder          int               60\n",
      "hsvDvMathcalP      ndarray           60: 60 elems, type `float64`, 480 bytes\n",
      "hsvExtMathcalP     ndarray           60: 60 elems, type `float64`, 480 bytes\n",
      "mathcalC           StateSpace        A = [[ -10. -225.]\\n     <...>10. -0.]]\\n\\nD = [[0.]]\\n\n",
      "mathcalP_cb        LinearIOSystem    <LinearIOSystem>: sys[2]\\<...>[[0. 0.]\\n     [0. 0.]]\\n\n",
      "reducOrder         int               5\n",
      "truncDvMathcalP    LinearIOSystem    <LinearIOSystem>: sys[5]\\<...>[[0. 0.]\\n     [0. 0.]]\\n\n",
      "truncExtMathcalP   LinearIOSystem    <LinearIOSystem>: sys[4]\\<...> [0. 0.]\\n     [0. 0.]]\\n\n"
     ]
    }
   ],
   "source": [
    "%config StoreMagics.autorestore = True\n",
    "%reset -f\n",
    "# %store -z\n",
    "%store -r\n",
    "%whos"
   ]
  },
  {
   "cell_type": "code",
   "execution_count": 29,
   "metadata": {},
   "outputs": [],
   "source": [
    "import numpy\n",
    "import sympy\n",
    "import scipy\n",
    "import control\n",
    "import matplotlib as mpl\n",
    "import matplotlib.pyplot as plt\n",
    "import time\n",
    "\n",
    "import multiprocessing\n",
    "from joblib import Parallel, delayed  \n",
    "from tqdm.notebook import tqdm\n",
    "\n",
    "from custom_utils import ControlUtils\n",
    "from custom_utils import ODEUtils\n",
    "\n",
    "from IPython.display import display\n",
    "from IPython.display import Math\n",
    "from IPython.display import Latex\n",
    "from IPython.display import HTML\n",
    "\n",
    "numpy.set_printoptions(precision=3)\n",
    "sympy.init_printing(use_latex='mathjax', use_unicode=True)\n",
    "sympy.init_printing()\n",
    "plt.rcParams.update({ \"text.usetex\": True, \"font.family\": \"Helvetica\", \"axes.titley\": 1.0 } )\n",
    "%matplotlib inline"
   ]
  },
  {
   "cell_type": "code",
   "execution_count": 30,
   "metadata": {},
   "outputs": [],
   "source": [
    "s = control.TransferFunction.s\n",
    "def smallgain_condition(Tsam,mathcalC,extMathcalP,truncExtMathcalP):\n",
    "        # Norm operator Delta\n",
    "        normInfDelta = 2*Tsam/numpy.pi\n",
    "        # Discretizing controller and computing norm of widetildeMathcalCs\n",
    "        overlineMathcalC = control.sample_system(mathcalC, Tsam, 'zoh')\n",
    "        mathcalCPrime = control.ss(mathcalC.A,mathcalC.B,mathcalC.C,numpy.zeros(mathcalC.D.shape))\n",
    "        tfMathcalCPrime = control.ss2tf(mathcalCPrime)\n",
    "        gamma_dv_tildew = normInfDelta * ControlUtils.hinfnorm(mathcalC) \\\n",
    "                                + normInfDelta * ControlUtils.hinfnorm(s * tfMathcalCPrime) * normInfDelta \\\n",
    "                                + ControlUtils.hinfnorm(tfMathcalCPrime) * normInfDelta \n",
    "        #######################################################################                        \n",
    "        # Creating closed-loop\n",
    "        # Controller matrices\n",
    "        Ac = mathcalC.A\n",
    "        Bv = mathcalC.B\n",
    "        Cw = mathcalC.C\n",
    "        Dw = mathcalC.D\n",
    "        #######################################################################\n",
    "        # FOM extended plant\n",
    "        Ap = extMathcalP.A\n",
    "        Bw = extMathcalP.B[:,0:1]\n",
    "        Bu = extMathcalP.B[:,1:2]\n",
    "        Cv = extMathcalP.C[0:1,:]\n",
    "        Cy = extMathcalP.C[-1:,:]\n",
    "        Dv = extMathcalP.D[0:1,:]\n",
    "        Dy = extMathcalP.D[-1:,:]\n",
    "        # Closed-loop with FOM Extended Plant\n",
    "        extAcl = numpy.row_stack( [ numpy.column_stack( [ Ap + Bw@Dw@Cv, Bw@Cw ] ),\n",
    "                                        numpy.column_stack( [ Bv@Cv, Ac ] )\n",
    "                                        ] )\n",
    "        extBcl = numpy.row_stack( [ numpy.column_stack([Bw, Bu]),\n",
    "                                        numpy.column_stack( [ numpy.zeros( (Ac.shape[0],Bw.shape[1]) ), numpy.zeros( (Ac.shape[0],Bu.shape[1]) ) ] )\n",
    "                                        ] )\n",
    "        extCcl = numpy.row_stack( [ numpy.column_stack( [ Cv, numpy.zeros( (Cv.shape[0],Ac.shape[0]) ) ] ),\n",
    "                                        numpy.column_stack( [ Cv@Ap + Cv@Bw@Dw@Cv, Cv@Bw@Cw ] ),\n",
    "                                        numpy.column_stack( [ Cy, numpy.zeros( (Cy.shape[0],Ac.shape[0]) ) ] )\n",
    "                                        ] )\n",
    "        extDcl = numpy.row_stack( [ numpy.column_stack( [ numpy.zeros( (Cv.shape[0],Bw.shape[1]) ), numpy.zeros( (Cv.shape[0],Bu.shape[1]) ) ] ),\n",
    "                                        numpy.column_stack( [ Cv@Bw , Cv@Bu] ),\n",
    "                                        numpy.column_stack( [ numpy.zeros( (Cy.shape[0],Bw.shape[1]) ), numpy.zeros( (Cy.shape[0],Bu.shape[1]) ) ] )\n",
    "                                        ] )\n",
    "        extMathcalPcl = control.ss(extAcl,extBcl,extCcl,extDcl)\n",
    "        #######################################################################\n",
    "        # ROM extended plant\n",
    "        truncExtAp = truncExtMathcalP.A\n",
    "        truncExtBw = truncExtMathcalP.B[:,0:1]\n",
    "        truncExtBu = truncExtMathcalP.B[:,1:2]\n",
    "        truncExtCv = truncExtMathcalP.C[0:1,:]\n",
    "        truncExtCy = truncExtMathcalP.C[-1:,:]\n",
    "        truncExtDv = truncExtMathcalP.D[0:1,:]\n",
    "        truncExtDy = truncExtMathcalP.D[-1:,:]\n",
    "        # Closed-loop with ROM Extended Plant\n",
    "        truncExtAcl = numpy.row_stack( [ numpy.column_stack( [ truncExtAp + truncExtBw@Dw@truncExtCv, truncExtBw@Cw ] ),\n",
    "                                        numpy.column_stack( [ Bv@truncExtCv, Ac ] )\n",
    "                                        ] )\n",
    "        truncExtBcl = numpy.row_stack( [ numpy.column_stack([truncExtBw, truncExtBu]),\n",
    "                                        numpy.column_stack( [ numpy.zeros( (Ac.shape[0],truncExtBw.shape[1]) ), numpy.zeros( (Ac.shape[0],truncExtBu.shape[1]) ) ] )\n",
    "                                        ] )\n",
    "        truncExtCcl = numpy.row_stack( [ numpy.column_stack( [ truncExtCv, numpy.zeros( (truncExtCv.shape[0],Ac.shape[0]) ) ] ),\n",
    "                                        numpy.column_stack( [ truncExtCv@truncExtAp + truncExtCv@truncExtBw@Dw@truncExtCv, truncExtCv@truncExtBw@Cw ] ),\n",
    "                                        numpy.column_stack( [ truncExtCy, numpy.zeros( (truncExtCy.shape[0],Ac.shape[0]) ) ] )\n",
    "                                        ] )\n",
    "        truncExtDcl = numpy.row_stack( [ numpy.column_stack( [ numpy.zeros( (truncExtCv.shape[0],truncExtBw.shape[1]) ), numpy.zeros( (truncExtCv.shape[0],truncExtBu.shape[1]) ) ] ),\n",
    "                                        numpy.column_stack( [ truncExtCv@truncExtBw , truncExtCv@truncExtBu] ),\n",
    "                                        numpy.column_stack( [ numpy.zeros( (truncExtCy.shape[0],truncExtBw.shape[1]) ), numpy.zeros( (truncExtCy.shape[0],truncExtBu.shape[1]) ) ] )\n",
    "                                        ] )\n",
    "        truncExtMathcalPcl = control.ss(truncExtAcl,truncExtBcl,truncExtCcl,truncExtDcl)\n",
    "        #######################################################################\n",
    "        approxErrorExtMathcalPcl = extMathcalPcl-truncExtMathcalPcl\n",
    "        #######################################################################\n",
    "        # Computing norms for small-gain stability condition\n",
    "        gamma_tildew_dv = ControlUtils.hinfnorm(extMathcalPcl[1,0])\n",
    "        epsilon_tildew_dv = ControlUtils.hinfnorm(approxErrorExtMathcalPcl[1,0])\n",
    "        return (gamma_tildew_dv,epsilon_tildew_dv,gamma_dv_tildew,extMathcalPcl,truncExtMathcalPcl,approxErrorExtMathcalPcl)"
   ]
  },
  {
   "cell_type": "code",
   "execution_count": 34,
   "metadata": {},
   "outputs": [
    {
     "data": {
      "application/vnd.jupyter.widget-view+json": {
       "model_id": "4c025f72f8c749adb6d3a5c302cd7249",
       "version_major": 2,
       "version_minor": 0
      },
      "text/plain": [
       "  0%|          | 0/2500 [00:00<?, ?it/s]"
      ]
     },
     "metadata": {},
     "output_type": "display_data"
    }
   ],
   "source": [
    "# Notch Filter\n",
    "sigma = 10\n",
    "wn_lims = [50, 150]\n",
    "wn_steps = 50\n",
    "wns = numpy.linspace(wn_lims[0],wn_lims[1],wn_steps)\n",
    "\n",
    "samp_lim = [0.20,0.3]\n",
    "samp_steps = 50\n",
    "samplings = numpy.linspace(samp_lim[0],samp_lim[1],samp_steps)\n",
    "\n",
    "idx_args_list = []\n",
    "for i in range(samp_steps):\n",
    "    for j in range(wn_steps):\n",
    "        Tsam = samplings[i]\n",
    "        wn = wns[j]\n",
    "        num = [1,0,wn**2]\n",
    "        den = [1,sigma,wn**2]\n",
    "        mathcalC = control.tf2ss(num,den)\n",
    "        idx_args_list.append([(i,j),(Tsam,mathcalC,extMathcalP,truncExtMathcalP)])\n",
    "        \n",
    "num_cores = multiprocessing.cpu_count()\n",
    "idx_results_list = Parallel(n_jobs=num_cores)\\\n",
    "                        (\\\n",
    "                            delayed( lambda idx,args: (idx, smallgain_condition(*args)) )( idx_args_list[k][0], idx_args_list[k][1] )\\\n",
    "                                for k in tqdm(range(len(idx_args_list)), position=0)\\\n",
    "                        )"
   ]
  },
  {
   "cell_type": "code",
   "execution_count": 35,
   "metadata": {},
   "outputs": [
    {
     "data": {
      "image/png": "[encoded data removed]",
      "text/plain": [
       "<Figure size 640x480 with 1 Axes>"
      ]
     },
     "metadata": {},
     "output_type": "display_data"
    }
   ],
   "source": [
    "for k in range(len(idx_results_list)):\n",
    "    (i,j),(gamma_tildew_dv,epsilon_tildew_dv,gamma_dv_tildew,extMathcalPcl,truncExtMathcalPcl,approxErrorExtMathcalPcl) = idx_results_list[k]\n",
    "    small_gain_cond_FOM = gamma_tildew_dv*gamma_dv_tildew\n",
    "    small_gain_cond_ROM = (gamma_tildew_dv+epsilon_tildew_dv)*gamma_dv_tildew\n",
    "    Tsam = samplings[i]\n",
    "    wn = wns[j]\n",
    "    if(small_gain_cond_FOM>=1):\n",
    "        plt.plot(wn, Tsam, marker=\"x\", markersize=4, markerfacecolor='r', markeredgecolor='r')\n",
    "    elif(small_gain_cond_ROM>=1):\n",
    "        plt.plot(wn, Tsam, marker=\"x\", markersize=4, markerfacecolor='b', markeredgecolor='b')\n",
    "    else:\n",
    "        plt.plot(wn, Tsam, marker=\"o\", markersize=4, markerfacecolor='none', markeredgecolor='g')\n",
    "        \n",
    "plt.ylabel('$T$')\n",
    "plt.xlabel('$\\\\omega_n$')\n",
    "plt.show()"
   ]
  }
 ],
 "metadata": {
  "kernelspec": {
   "display_name": "control_env",
   "language": "python",
   "name": "python3"
  },
  "language_info": {
   "codemirror_mode": {
    "name": "ipython",
    "version": 3
   },
   "file_extension": ".py",
   "mimetype": "text/x-python",
   "name": "python",
   "nbconvert_exporter": "python",
   "pygments_lexer": "ipython3",
   "version": "3.9.13"
  },
  "orig_nbformat": 4
 },
 "nbformat": 4,
 "nbformat_minor": 2
}
