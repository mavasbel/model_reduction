{
 "cells": [
  {
   "cell_type": "code",
   "execution_count": 33,
   "metadata": {},
   "outputs": [
    {
     "name": "stdout",
     "output_type": "stream",
     "text": [
      "Variable                     Type              Data/Info\n",
      "--------------------------------------------------------\n",
      "PDMultiOrderROM_results      list              n=105\n",
      "fullOrder                    int               80\n",
      "hatMathcalPext               LinearIOSystem    <LinearIOSystem>: sys[110<...> [0. 0.]\\n     [0. 0.]]\\n\n",
      "hsvMathcalPext               ndarray           80: 80 elems, type `float64`, 640 bytes\n",
      "mathcalEext                  LinearICSystem    <LinearICSystem>: sys[110<...> [0. 0.]\\n     [0. 0.]]\\n\n",
      "mathcalP                     LinearIOSystem    <LinearIOSystem>: sys[22]<...>[[0. 0.]\\n     [0. 0.]]\\n\n",
      "mathcalPcl                   LinearIOSystem    <LinearIOSystem>: sys[8]\\<...>[[0. 0.]\\n     [0. 0.]]\\n\n",
      "mathcalPext                  LinearIOSystem    <LinearIOSystem>: sys[24]<...> [0. 0.]\\n     [0. 0.]]\\n\n",
      "normExtMathcalEext_MIMO      ndarray           3x2: 6 elems, type `float64`, 48 bytes\n",
      "normInfExtMathcalEext        float64           0.02978814633572666\n",
      "normInfHatMathcalPext        float64           0.44011060129000007\n",
      "normInfHatMathcalPext_MIMO   ndarray           3x2: 6 elems, type `float64`, 48 bytes\n",
      "normInfMathcalP              float64           0.008387776178779094\n",
      "normInfMathcalP_MIMO         ndarray           2x2: 4 elems, type `float64`, 32 bytes\n",
      "normInfMathcalPext           float64           0.4396441479514615\n",
      "normInfMathcalPext_MIMO      ndarray           3x2: 6 elems, type `float64`, 48 bytes\n",
      "reducOrder                   int               5\n"
     ]
    }
   ],
   "source": [
    "%config StoreMagics.autorestore = True\n",
    "%reset -f\n",
    "# %store -z\n",
    "%store -r\n",
    "%whos"
   ]
  },
  {
   "cell_type": "code",
   "execution_count": 115,
   "metadata": {},
   "outputs": [],
   "source": [
    "import pickle\n",
    "import numpy\n",
    "import sympy\n",
    "import scipy\n",
    "import control\n",
    "import time\n",
    "from datetime import datetime\n",
    "\n",
    "import matplotlib as mpl\n",
    "import matplotlib.pyplot as plt\n",
    "import matplotlib.ticker as ticker\n",
    "from matplotlib import cm\n",
    "from matplotlib.ticker import MaxNLocator\n",
    "\n",
    "import multiprocessing\n",
    "from joblib import Parallel, delayed  \n",
    "from tqdm.notebook import tqdm\n",
    "import psutil\n",
    "\n",
    "from custom_utils import ControlUtils\n",
    "from custom_utils import ODEUtils\n",
    "\n",
    "from IPython.display import display\n",
    "from IPython.display import Math\n",
    "from IPython.display import Latex\n",
    "from IPython.display import HTML\n",
    "\n",
    "from PIL import Image\n",
    "\n",
    "numpy.set_printoptions(precision=3)\n",
    "sympy.init_printing(use_latex='mathjax', use_unicode=True)\n",
    "sympy.init_printing()\n",
    "plt.rcParams.update({ \"text.usetex\": True, \"font.family\": \"Helvetica\", \"axes.titley\": 1.0 } )\n",
    "%matplotlib inline"
   ]
  },
  {
   "cell_type": "code",
   "execution_count": 47,
   "metadata": {},
   "outputs": [],
   "source": [
    "s = control.TransferFunction.s\n",
    "def PDMultiParamsMOR_fnc(Kp, Td, N, Tsam):\n",
    "        # Create controller with given parameters\n",
    "        # num =  [ (Kp/Td) * N * (N + Td), (Kp/Td) * N * (1.0/Td) ]\n",
    "        # den = [ 1, N/Td ]\n",
    "        num =  [ Kp*((Td/N)+Td), Kp ]\n",
    "        den = [ (Td/N), 1 ]\n",
    "        mathcalC = control.tf2ss(num,den)\n",
    "        \n",
    "        # Norm operator Delta\n",
    "        normInfDelta = 2*Tsam/numpy.pi\n",
    "\n",
    "        mathcalCPrime = control.ss(mathcalC.A,mathcalC.B,mathcalC.C,numpy.zeros(mathcalC.D.shape))\n",
    "        tfMathcalCPrime = control.ss2tf(mathcalCPrime)\n",
    "        kappa_dv = normInfDelta * ControlUtils.hinfnorm(mathcalC)[0] \\\n",
    "                                + normInfDelta * ControlUtils.hinfnorm(s * tfMathcalCPrime)[0] * normInfDelta \\\n",
    "                                + ControlUtils.hinfnorm(tfMathcalCPrime)[0] * normInfDelta \n",
    "        #######################################################################                        \n",
    "        # Creating closed-loop\n",
    "        # Controller matrices\n",
    "        Ac = mathcalC.A\n",
    "        Bv = mathcalC.B\n",
    "        Cw = mathcalC.C\n",
    "        Dw = mathcalC.D\n",
    "        #######################################################################\n",
    "        # FOM extended plant\n",
    "        Ap = mathcalPext.A\n",
    "        Bw = mathcalPext.B[:,0:1]\n",
    "        Bu = mathcalPext.B[:,1:2]\n",
    "        Cv = mathcalPext.C[0:1,:]\n",
    "        Cy = mathcalPext.C[-1:,:]\n",
    "        Dv = mathcalPext.D[0:1,:]\n",
    "        Dy = mathcalPext.D[-1:,:]\n",
    "        # Closed-loop with FOM Extended Plant\n",
    "        Acl = numpy.row_stack( [ numpy.column_stack( [ Ap + Bw@Dw@Cv, Bw@Cw ] ),\n",
    "                                    numpy.column_stack( [ Bv@Cv, Ac ] )\n",
    "                                    ] )\n",
    "        Bcl = numpy.row_stack( [ numpy.column_stack([Bw, Bu]),\n",
    "                                    numpy.column_stack( [ numpy.zeros( (Ac.shape[0],Bw.shape[1]) ), numpy.zeros( (Ac.shape[0],Bu.shape[1]) ) ] )\n",
    "                                    ] )\n",
    "        Ccl = numpy.row_stack( [ # numpy.column_stack( [ Cv, numpy.zeros( (Cv.shape[0],Ac.shape[0]) ) ] ),\n",
    "                                    numpy.column_stack( [ Cv@Ap + Cv@Bw@Dw@Cv, Cv@Bw@Cw ] ),\n",
    "                                    numpy.column_stack( [ Cy, numpy.zeros( (Cy.shape[0],Ac.shape[0]) ) ] )\n",
    "                                    ] )\n",
    "        Dcl = numpy.row_stack( [ # numpy.column_stack( [ numpy.zeros( (Cv.shape[0],Bw.shape[1]) ), numpy.zeros( (Cv.shape[0],Bu.shape[1]) ) ] ),\n",
    "                                    numpy.column_stack( [ Cv@Bw , Cv@Bu] ),\n",
    "                                    numpy.column_stack( [ numpy.zeros( (Cy.shape[0],Bw.shape[1]) ), numpy.zeros( (Cy.shape[0],Bu.shape[1]) ) ] )\n",
    "                                    ] )\n",
    "        mathcalPcl = control.ss(Acl,Bcl,Ccl,Dcl)\n",
    "        normInfMathcalPcl, normInfMathcalPcl_MIMO = ControlUtils.hinfnorm( mathcalPcl )\n",
    "        #######################################################################\n",
    "        # ROM extended plant\n",
    "        hatAp_ext = hatMathcalPext.A\n",
    "        hatBw_ext = hatMathcalPext.B[:,0:1]\n",
    "        hatBu_ext = hatMathcalPext.B[:,1:2]\n",
    "        hatCv_ext = hatMathcalPext.C[0:1,:]\n",
    "        hatCy_ext = hatMathcalPext.C[-1:,:]\n",
    "        hatDv_ext = hatMathcalPext.D[0:1,:]\n",
    "        hatDy_ext = hatMathcalPext.D[-1:,:]\n",
    "        # Closed-loop with ROM Extended Plant\n",
    "        hatAcl = numpy.row_stack( [ numpy.column_stack( [ hatAp_ext + hatBw_ext@Dw@hatCv_ext, hatBw_ext@Cw ] ),\n",
    "                                    numpy.column_stack( [ Bv@hatCv_ext, Ac ] )\n",
    "                                    ] )\n",
    "        hatBcl = numpy.row_stack( [ numpy.column_stack([hatBw_ext, hatBu_ext]),\n",
    "                                    numpy.column_stack( [ numpy.zeros( (Ac.shape[0],hatBw_ext.shape[1]) ), numpy.zeros( (Ac.shape[0],hatBu_ext.shape[1]) ) ] )\n",
    "                                    ] )\n",
    "        hatCcl = numpy.row_stack( [ # numpy.column_stack( [ hatCv_ext, numpy.zeros( (hatCv_ext.shape[0],Ac.shape[0]) ) ] ),\n",
    "                                    numpy.column_stack( [ hatCv_ext@hatAp_ext + hatCv_ext@hatBw_ext@Dw@hatCv_ext, hatCv_ext@hatBw_ext@Cw ] ),\n",
    "                                    numpy.column_stack( [ hatCy_ext, numpy.zeros( (hatCy_ext.shape[0],Ac.shape[0]) ) ] )\n",
    "                                    ] )\n",
    "        hatDcl = numpy.row_stack( [ # numpy.column_stack( [ numpy.zeros( (hatCv_ext.shape[0],hatBw_ext.shape[1]) ), numpy.zeros( (hatCv_ext.shape[0],hatBu_ext.shape[1]) ) ] ),\n",
    "                                    numpy.column_stack( [ hatCv_ext@hatBw_ext , hatCv_ext@hatBu_ext] ),\n",
    "                                    numpy.column_stack( [ numpy.zeros( (hatCy_ext.shape[0],hatBw_ext.shape[1]) ), numpy.zeros( (hatCy_ext.shape[0],hatBu_ext.shape[1]) ) ] )\n",
    "                                    ] )\n",
    "        hatMathcalPcl = control.ss(hatAcl,hatBcl,hatCcl,hatDcl)\n",
    "        normInfHatMathcalPcl, normInfHatMathcalPcl_MIMO = ControlUtils.hinfnorm( hatMathcalPcl )\n",
    "        #######################################################################\n",
    "        \n",
    "        # Computing norms for small-gain stability condition \n",
    "        mathcalEcl = mathcalPcl - hatMathcalPcl\n",
    "        normInfMathcalEcl, normInfMathcalEcl_MIMO = ControlUtils.hinfnorm( mathcalEcl )\n",
    "        \n",
    "        return (mathcalPext, hatMathcalPext, mathcalC, Kp, Td, N, Tsam,\n",
    "                mathcalPcl, normInfMathcalPcl, normInfMathcalPcl_MIMO,\n",
    "                hatMathcalPcl, normInfHatMathcalPcl, normInfHatMathcalPcl_MIMO,\n",
    "                mathcalEcl, normInfMathcalEcl, normInfMathcalEcl_MIMO, \n",
    "                kappa_dv)"
   ]
  },
  {
   "cell_type": "code",
   "execution_count": 193,
   "metadata": {},
   "outputs": [],
   "source": [
    "# Loop parameters\n",
    "# kp_kd_steps = 50\n",
    "kps = numpy.linspace(75.0e-6, 100.0e-6, kp_kd_steps)\n",
    "tds = numpy.linspace(10.0e0, 10.0e0, kp_kd_steps)\n",
    "N = 1.0e3\n",
    "\n",
    "samplings_lims = [750.0e-3,1000.0e-3]\n",
    "samplings_steps = 50\n",
    "samplings = numpy.linspace(samplings_lims[0],samplings_lims[1],samplings_steps)\n",
    "\n",
    "# Creation of arguements lists for the parallel execution of function smallgain_condition(*args)\n",
    "jobs_args_list = []\n",
    "for i in range(samplings_steps):\n",
    "    for j in range(kp_kd_steps):\n",
    "        jobs_args_list.append([(i,j),(kps[j], tds[j], N, samplings[i])])"
   ]
  },
  {
   "cell_type": "code",
   "execution_count": 36,
   "metadata": {},
   "outputs": [
    {
     "data": {
      "application/vnd.jupyter.widget-view+json": {
       "model_id": "f61d0cb1ac8e4113a3bdc9d68cf49174",
       "version_major": 2,
       "version_minor": 0
      },
      "text/plain": [
       "  0%|          | 0/2500 [00:00<?, ?it/s]"
      ]
     },
     "metadata": {},
     "output_type": "display_data"
    }
   ],
   "source": [
    "# Execution of jobs using multiprocess managed by Parallel \n",
    "# (Very recommended since standard python multithread does not take advantage of all cores due to GIL)\n",
    "# (The other option is to use CPython)\n",
    "num_cores = multiprocessing.cpu_count()\n",
    "PDMultiParamsMOR_results = Parallel(n_jobs=num_cores)\\\n",
    "                        (\\\n",
    "                            delayed( lambda idx,args: (idx, PDMultiParamsMOR_fnc(*args)) )\\\n",
    "                                ( jobs_args_list[k][0], jobs_args_list[k][1] )\\\n",
    "                                for k in tqdm(range(len(jobs_args_list)), position=0)\\\n",
    "                        )\n",
    "                        \n",
    "# Maybe the parallelization could be distributed over several \"workers\" wrapping everthing with PySpark and creating several Spark workers in AWS"
   ]
  },
  {
   "cell_type": "code",
   "execution_count": 41,
   "metadata": {},
   "outputs": [],
   "source": [
    "# Save the computation results to a pickle with timestamp\n",
    "utcnow, micros = datetime.now().strftime('%Y_%m_%d-%H_%M_%S.%f').split('.')\n",
    "pickle_filename = \"PDMultiParamsMOR_results_{0}_{1}.pickle\".format( utcnow, micros[:-3] ) \n",
    "with open(pickle_filename, 'wb') as f:\n",
    "    pickle.dump(PDMultiParamsMOR_results, f)"
   ]
  },
  {
   "cell_type": "code",
   "execution_count": 42,
   "metadata": {},
   "outputs": [],
   "source": [
    "# Read the computation results from a pickle with timestamp\n",
    "# pickle_filename = \"PDMultiParamsMOR_results_2023_11_16-00_05_07_820.pickle\"\n",
    "# with open(pickle_filename, 'rb') as f:\n",
    "#     PDMultiParamsMOR_results = pickle.load(f)"
   ]
  },
  {
   "cell_type": "code",
   "execution_count": 185,
   "metadata": {},
   "outputs": [
    {
     "data": {
      "image/png": "[encoded data removed]",
      "text/plain": [
       "<Figure size 640x480 with 1 Axes>"
      ]
     },
     "metadata": {},
     "output_type": "display_data"
    },
    {
     "data": {
      "text/plain": [
       "<Figure size 640x480 with 0 Axes>"
      ]
     },
     "metadata": {},
     "output_type": "display_data"
    }
   ],
   "source": [
    "for k in range(len(PDMultiParamsMOR_results)):\n",
    "    (i,j),(mathcalPext, hatMathcalPext, mathcalC, Kp, Td, N, Tsam,\n",
    "                mathcalPcl, normInfMathcalPcl, normInfMathcalPcl_MIMO,\n",
    "                hatMathcalPcl, normInfHatMathcalPcl, normInfHatMathcalPcl_MIMO,\n",
    "                mathcalEcl, normInfMathcalEcl, normInfMathcalEcl_MIMO, \n",
    "                kappa_dv) = PDMultiParamsMOR_results[k]    \n",
    "    \n",
    "    # A priori stability condition\n",
    "    small_gain_cond_FOM = normInfMathcalPcl*kappa_dv\n",
    "    small_gain_cond_ROM = (normInfMathcalPcl+normInfMathcalEcl)*kappa_dv\n",
    "    \n",
    "    # Gains ratio for plot\n",
    "    kp_td = Kp/Td\n",
    "    \n",
    "    if(small_gain_cond_FOM>=1):\n",
    "        plt.plot(kp_td, Tsam, marker=\"x\", markersize=4, markerfacecolor='r', markeredgecolor='r')\n",
    "    elif(small_gain_cond_ROM>=1):\n",
    "        plt.plot(kp_td, Tsam, marker=\"x\", markersize=4, markerfacecolor='b', markeredgecolor='b')\n",
    "    else:\n",
    "        plt.plot(kp_td, Tsam, marker=\"o\", markersize=4, markerfacecolor='none', markeredgecolor='g')\n",
    "\n",
    "plt.ticklabel_format(axis='y', scilimits=(-0,-0))\n",
    "plt.ticklabel_format(axis='x', scilimits=(-6,-6))\n",
    "plt.tick_params(axis='y', labelsize=13)\n",
    "plt.tick_params(axis='x', labelsize=13)\n",
    "plt.gca().yaxis.get_offset_text().set_fontsize(13)\n",
    "plt.gca().xaxis.get_offset_text().set_fontsize(13)\n",
    "plt.ylabel('$T$', fontsize=16)\n",
    "plt.xlabel('$\\\\frac{K_p}{T_d}$', fontsize=16)\n",
    "plt.show()\n",
    "\n",
    "plt.savefig('smallgain_cond_pd_kp_kd_ratio.png', format='png')"
   ]
  },
  {
   "cell_type": "code",
   "execution_count": 194,
   "metadata": {},
   "outputs": [
    {
     "data": {
      "image/png": "[encoded data removed]",
      "text/plain": [
       "<Figure size 800x400 with 2 Axes>"
      ]
     },
     "metadata": {},
     "output_type": "display_data"
    },
    {
     "data": {
      "text/plain": [
       "<Figure size 640x480 with 0 Axes>"
      ]
     },
     "metadata": {},
     "output_type": "display_data"
    }
   ],
   "source": [
    "imax = max(PDMultiParamsMOR_results, key=lambda x: x[0][0])[0][0] + 1\n",
    "jmax = max(PDMultiParamsMOR_results, key=lambda x: x[0][1])[0][1] + 1\n",
    "\n",
    "samp_Y = numpy.empty((imax,jmax))\n",
    "samp_Y.fill(numpy.nan)\n",
    "kp_td_X = numpy.empty((imax,jmax))\n",
    "kp_td_X.fill(numpy.nan)\n",
    "eps_u_y_cl_Z = numpy.empty((imax,jmax))\n",
    "eps_u_y_cl_Z.fill(numpy.nan)\n",
    "\n",
    "for k in range(len(PDMultiParamsMOR_results)):\n",
    "    (i,j),(mathcalPext, hatMathcalPext, mathcalC, Kp, Td, N, Tsam,\n",
    "                mathcalPcl, normInfMathcalPcl, normInfMathcalPcl_MIMO,\n",
    "                hatMathcalPcl, normInfHatMathcalPcl, normInfHatMathcalPcl_MIMO,\n",
    "                mathcalEcl, normInfMathcalEcl, normInfMathcalEcl_MIMO, \n",
    "                kappa_dv) = PDMultiParamsMOR_results[k]\n",
    "        \n",
    "    gamma_w_dv = normInfMathcalPcl_MIMO[0,0]\n",
    "    gamma_w_y  = normInfMathcalPcl_MIMO[1,0]\n",
    "    gamma_u_dv = normInfMathcalPcl_MIMO[0,1]\n",
    "    gamma_u_y  = normInfMathcalPcl_MIMO[1,1]\n",
    "    hat_gamma_w_dv = normInfHatMathcalPcl_MIMO[0,0]\n",
    "    hat_gamma_w_y  = normInfHatMathcalPcl_MIMO[1,0]\n",
    "    hat_gamma_u_dv = normInfHatMathcalPcl_MIMO[0,1]\n",
    "    hat_gamma_u_y  = normInfHatMathcalPcl_MIMO[1,1]\n",
    "    eps_w_dv = normInfMathcalEcl_MIMO[0,0]\n",
    "    eps_w_y  = normInfMathcalEcl_MIMO[1,0]\n",
    "    eps_u_dv = normInfMathcalEcl_MIMO[0,1]\n",
    "    eps_u_y  = normInfMathcalEcl_MIMO[1,1]\n",
    "    \n",
    "    den_hat_gamma = (1-kappa_dv*hat_gamma_w_dv)\n",
    "    den_gamma = (1-kappa_dv*gamma_w_dv)\n",
    "    if den_hat_gamma<=0 or den_gamma<=0: eps_u_y_cl = numpy.nan\n",
    "    else: eps_u_y_cl = ( hat_gamma_w_y/den_hat_gamma )*( (kappa_dv**2)*gamma_u_dv*eps_w_dv/den_gamma + kappa_dv*eps_u_dv ) \\\n",
    "            + kappa_dv*gamma_u_dv*eps_w_y/den_gamma \\\n",
    "            + eps_u_y\n",
    "    # print(eps_u_y_cl, \"\\t\", Kp/Td, \"\\t\", Tsam, \"\\t\", (1-kappa_dv*hat_gamma_w_dv), \"\\t\", (1-kappa_dv*gamma_w_dv))\n",
    "    \n",
    "    samp_Y[i,j] = Tsam\n",
    "    kp_td_X[i,j] = Kp/Td\n",
    "    eps_u_y_cl_Z[i,j] = eps_u_y_cl\n",
    "\n",
    "# plt.subplots(subplot_kw={\"projection\": \"3d\"})\n",
    "# surf = plt.gca().plot_surface(kp_td_X, samp_Y, eps_u_y_cl_Z, cmap=cm.coolwarm, linewidth=0, antialiased=False, vmin=-0, vmax=0.5)\n",
    "# plt.gca().view_init(elev=90, azim=-90)\n",
    "# plt.xlabel('$\\\\frac{K_p}{T_d}$', fontsize=16)\n",
    "# plt.ylabel('$T$', fontsize=16)\n",
    "# plt.ylabel('$T$', fontsize=16)\n",
    "# plt.gca().set_zlim(-0, 0.5)\n",
    "# plt.gcf().colorbar(surf, shrink=0.5, aspect=5)\n",
    "# plt.show()\n",
    "\n",
    "# eps_u_y_cl_Z = list(map(list, zip(*eps_u_y_cl_Z[::-1])))[::-1]\n",
    "eps_u_y_cl_Z = eps_u_y_cl_Z[::-1,:]\n",
    "# eps_u_y_cl_Z = eps_u_y_cl_Z[:,::-1]\n",
    "plt.subplots(figsize=(8,4))\n",
    "plt.imshow(eps_u_y_cl_Z, cmap=cm.coolwarm, vmin=-0, vmax=0.5, extent=[0, jmax, 0, imax])\n",
    "plt.gca().set_xticks(numpy.linspace(0,jmax,8))\n",
    "plt.gca().set_xticklabels([\"${0:.1f}$\".format(tick*10e5) for tick in numpy.linspace(min(kp_td_X[0,:]),max(kp_td_X[0,:]),8)])\n",
    "plt.text(jmax-1, -7, \"$\\\\times 10^{6}$\", fontsize=10)\n",
    "plt.gca().set_yticks(numpy.linspace(0,imax,8))\n",
    "plt.gca().set_yticklabels([\"${0:.2f}$\".format(tick) for tick in numpy.linspace(min(samp_Y[:,0]),max(samp_Y[:,0]),8)])\n",
    "plt.colorbar()\n",
    "plt.xlabel('$\\\\frac{K_p}{T_d}$', fontsize=16)\n",
    "plt.ylabel('$T$', fontsize=16)\n",
    "plt.show()\n",
    "\n",
    "plt.savefig('performance_error_bound.png', format='png')"
   ]
  },
  {
   "cell_type": "code",
   "execution_count": 38,
   "metadata": {},
   "outputs": [
    {
     "name": "stdout",
     "output_type": "stream",
     "text": [
      "Stored 'PDMultiParamsMOR_results' (list)\n"
     ]
    }
   ],
   "source": [
    "%store -d PDMultiParamsMOR_results\n",
    "%store PDMultiParamsMOR_results"
   ]
  }
 ],
 "metadata": {
  "kernelspec": {
   "display_name": "Python 3 (ipykernel)",
   "language": "python",
   "name": "python3"
  },
  "language_info": {
   "codemirror_mode": {
    "name": "ipython",
    "version": 3
   },
   "file_extension": ".py",
   "mimetype": "text/x-python",
   "name": "python",
   "nbconvert_exporter": "python",
   "pygments_lexer": "ipython3",
   "version": "3.9.13"
  }
 },
 "nbformat": 4,
 "nbformat_minor": 4
}
